{
 "cells": [
  {
   "cell_type": "code",
   "execution_count": 1,
   "metadata": {},
   "outputs": [],
   "source": [
    "import os\n",
    "import sys\n",
    "from tqdm import tqdm_notebook\n",
    "from datetime import datetime\n",
    "import pandas as pd\n",
    "import numpy as np\n",
    "from torchvision import models\n",
    "import torch.nn as nn\n",
    "import torch\n",
    "import torch.optim as optim\n",
    "## It's better to ensure the current path\n",
    "os.chdir('/home/jupyter/learning-to-drive/doc')\n",
    "sys.path.append('/home/jupyter/learning-to-drive/lib')"
   ]
  },
  {
   "cell_type": "markdown",
   "metadata": {
    "colab_type": "text",
    "id": "SFP91yyychql"
   },
   "source": [
    "# Getting Started:\n",
    "## A simple driving model training and evaluation pipeline using the Drive360 dataset and PyTorch."
   ]
  },
  {
   "cell_type": "markdown",
   "metadata": {
    "colab_type": "text",
    "id": "eeTTXKFEchqm"
   },
   "source": [
    "## Loading data from Drive360 dataset."
   ]
  },
  {
   "cell_type": "markdown",
   "metadata": {
    "colab_type": "text",
    "id": "9dUjc8BHchqn"
   },
   "source": [
    "The **dataset.py** file contains the 3 classes necessary for creating a Drive360Loader. Using the **config.json** file to specify the location of the csv and data directory, we can generate phase (train, validation, test) specific data loaders that can output samples from each set. Adjust the **dataset.py** to your preferred training framework."
   ]
  },
  {
   "cell_type": "code",
   "execution_count": 3,
   "metadata": {
    "colab": {
     "base_uri": "https://localhost:8080/",
     "height": 136
    },
    "colab_type": "code",
    "executionInfo": {
     "elapsed": 5075,
     "status": "ok",
     "timestamp": 1569969319418,
     "user": {
      "displayName": "Xiaoxi Zhao",
      "photoUrl": "",
      "userId": "07703831001558590239"
     },
     "user_tz": 240
    },
    "id": "FMS1e2vVchqo",
    "outputId": "3c6f4b5c-097e-4de6-cc7e-84a152d06319"
   },
   "outputs": [
    {
     "name": "stdout",
     "output_type": "stream",
     "text": [
      "Phase: train # of data: 76100\n",
      "Phase: validation # of data: 5007\n",
      "Phase: test # of data: 13422\n",
      "Loaded train loader with the following data available as a dict.\n",
      "Index(['cameraRight', 'cameraFront', 'cameraRear', 'cameraLeft', 'canSteering',\n",
      "       'canSpeed', 'chapter'],\n",
      "      dtype='object')\n"
     ]
    }
   ],
   "source": [
    "import json\n",
    "from dataset import Drive360Loader\n",
    "\n",
    "# load the config.json file that specifies data \n",
    "# location parameters and other hyperparameters \n",
    "# required.\n",
    "config = json.load(open('./config.json'))\n",
    "\n",
    "normalize_targets = config['target']['normalize']\n",
    "target_mean = config['target']['mean']\n",
    "target_std = config['target']['std']\n",
    "\n",
    "# create a train, validation and test data loader\n",
    "train_loader = Drive360Loader(config, 'train')\n",
    "validation_loader = Drive360Loader(config, 'validation')\n",
    "test_loader = Drive360Loader(config, 'test')\n",
    "\n",
    "# print the data (keys) available for use. See full \n",
    "# description of each data type in the documents.\n",
    "print('Loaded train loader with the following data available as a dict.')\n",
    "print(train_loader.drive360.dataframe.keys())"
   ]
  },
  {
   "cell_type": "markdown",
   "metadata": {
    "colab_type": "text",
    "id": "KMV2svdJchqt"
   },
   "source": [
    "## Training a basic driving model"
   ]
  },
  {
   "cell_type": "markdown",
   "metadata": {
    "colab_type": "text",
    "id": "bvQMkdW0chqu"
   },
   "source": [
    "Create your driving model. This is specific to your learning framework. \n",
    "\n",
    "Below we give a very basic dummy model that uses the front facing camera and a resnet34 + LSTM architecture to predict canSteering and canSpeed. "
   ]
  },
  {
   "cell_type": "code",
   "execution_count": 4,
   "metadata": {},
   "outputs": [],
   "source": [
    "from Non_local_pytorch.lib.non_local_embedded_gaussian import NONLocalBlock2D"
   ]
  },
  {
   "cell_type": "code",
   "execution_count": 5,
   "metadata": {
    "colab": {
     "base_uri": "https://localhost:8080/",
     "height": 1000
    },
    "colab_type": "code",
    "executionInfo": {
     "elapsed": 8439,
     "status": "ok",
     "timestamp": 1569969364254,
     "user": {
      "displayName": "Xiaoxi Zhao",
      "photoUrl": "",
      "userId": "07703831001558590239"
     },
     "user_tz": 240
    },
    "id": "QQNxTxMOchqv",
    "outputId": "26246366-3f5a-4930-bf2f-64433676363c"
   },
   "outputs": [],
   "source": [
    "class NonLocalModel(nn.Module):\n",
    "    def __init__(self):\n",
    "        super(NonLocalModel, self).__init__()\n",
    "        final_concat_size = 0\n",
    "        \n",
    "        # Main CNN\n",
    "        cnn = models.resnet34(pretrained=True)\n",
    "        for i, layer in enumerate(cnn.children()):\n",
    "            if i <= 6:\n",
    "                for param in layer.parameters():\n",
    "                    param.requires_grad = False\n",
    "        self.features = nn.Sequential(\n",
    "            *list(cnn.children())[0:4],\n",
    "            NONLocalBlock2D(64),\n",
    "            list(cnn.children())[4],\n",
    "            NONLocalBlock2D(64),\n",
    "            list(cnn.children())[5],\n",
    "            NONLocalBlock2D(128),\n",
    "            list(cnn.children())[6],\n",
    "            NONLocalBlock2D(256),\n",
    "            *list(cnn.children())[7:9]\n",
    "        )\n",
    "        # self.resnet_output = nn.Sequential(*list(cnn.children())[:-2])\n",
    "        self.intermediate = nn.Sequential(nn.Linear(\n",
    "                          cnn.fc.in_features, 128),\n",
    "                          nn.ReLU())\n",
    "        final_concat_size += 128\n",
    "\n",
    "        # Main LSTM\n",
    "        self.gru = nn.GRU(input_size=128,\n",
    "                            hidden_size=64,\n",
    "                            num_layers=3,\n",
    "                            batch_first=False)\n",
    "        final_concat_size += 64\n",
    "        \n",
    "        # Angle Regressor\n",
    "        self.control_angle = nn.Sequential(\n",
    "            nn.Linear(final_concat_size, 64),\n",
    "            nn.ReLU(),\n",
    "            nn.Linear(64, 32),\n",
    "            nn.ReLU(),\n",
    "            nn.Linear(32, 1)\n",
    "        )\n",
    "        # Speed Regressor\n",
    "        self.control_speed = nn.Sequential(\n",
    "            nn.Linear(final_concat_size, 64),\n",
    "            nn.ReLU(),\n",
    "            nn.Linear(64, 32),\n",
    "            nn.ReLU(),\n",
    "            nn.Linear(32, 1)\n",
    "        )\n",
    "    \n",
    "    def forward(self, data):\n",
    "        module_outputs = []\n",
    "        gru_i = []\n",
    "        # Loop through temporal sequence of\n",
    "        # front facing camera images and pass \n",
    "        # through the cnn.\n",
    "        for k, v in data['cameraFront'].items():\n",
    "            if torch.cuda.is_available():\n",
    "                v = v.cuda()\n",
    "            x = self.features(v)\n",
    "            x = x.view(x.size(0), -1)\n",
    "            x = self.intermediate(x)\n",
    "            gru_i.append(x)\n",
    "            # feed the current front facing camera\n",
    "            # output directly into the \n",
    "            # regression networks.\n",
    "            if k == 0:\n",
    "                module_outputs.append(x)\n",
    "\n",
    "        # Feed temporal outputs of CNN into LSTM\n",
    "        self.gru.flatten_parameters()\n",
    "        i_gru, _ = self.gru(torch.stack(gru_i))\n",
    "        module_outputs.append(i_gru[-1])\n",
    "        \n",
    "        # Concatenate current image CNN output \n",
    "        # and LSTM output.\n",
    "        x_cat = torch.cat(module_outputs, dim=-1)\n",
    "        \n",
    "        # Feed concatenated outputs into the \n",
    "        # regession networks.\n",
    "        prediction = {'canSteering': torch.squeeze(self.control_angle(x_cat)),\n",
    "                      'canSpeed': torch.squeeze(self.control_speed(x_cat))}\n",
    "        return prediction"
   ]
  },
  {
   "cell_type": "markdown",
   "metadata": {
    "colab_type": "text",
    "id": "5EEBPLHnchqy"
   },
   "source": [
    "### Training and validation process"
   ]
  },
  {
   "cell_type": "code",
   "execution_count": 7,
   "metadata": {
    "colab": {
     "base_uri": "https://localhost:8080/",
     "height": 612
    },
    "colab_type": "code",
    "executionInfo": {
     "elapsed": 2662274,
     "status": "ok",
     "timestamp": 1569977854128,
     "user": {
      "displayName": "Xiaoxi Zhao",
      "photoUrl": "",
      "userId": "07703831001558590239"
     },
     "user_tz": 240
    },
    "id": "3WvoNo2Ychqz",
    "outputId": "d0093f0a-0ebb-4c58-fd5d-8d0ad3c93a7c"
   },
   "outputs": [],
   "source": [
    "def train_nn(train_loader, validation_loader, model, optimizer, \n",
    "             criterion, epochs=5, validation=True, load_path='', save_path='', print_freq = 200):\n",
    "    '''Training the model\n",
    "    Args:\n",
    "        validation: boolean, whether process validation\n",
    "        load_path: string, the model weights file to load\n",
    "        save_path: string, the model weights file to save\n",
    "    Returns:\n",
    "    '''\n",
    "    if torch.cuda.is_available():\n",
    "        model = model.cuda()\n",
    "        # model = nn.DataParallel(model)\n",
    "    if os.path.exists(load_path):\n",
    "        print('='*10 + 'loading weights from ' + load_path + '='*10)\n",
    "        checkpoint = torch.load(load_path)\n",
    "        model.load_state_dict(checkpoint['model_state_dict'])\n",
    "        optimizer.load_state_dict(checkpoint['optimizer_state_dict'])\n",
    "        print('='*10 + 'loading finished' + '='*10)\n",
    "    else:\n",
    "        print('load_path does not exist!')\n",
    "        \n",
    "    train_metrics = {\n",
    "        'angle_loss': {},\n",
    "        'speed_loss': {}\n",
    "    }\n",
    "    validation_metrics = {\n",
    "        'angle_loss': {},\n",
    "        'speed_loss': {}\n",
    "    }\n",
    "    for epoch in range(epochs):\n",
    "        print('='*10 + 'start ' + str(epoch+1) + ' epoch' + '='*10)\n",
    "        model.train()\n",
    "        angle_loss = 0.0\n",
    "        speed_loss = 0.0\n",
    "        since = datetime.now()\n",
    "        cnt = 0\n",
    "        for batch_idx, (data, target) in enumerate(tqdm_notebook(train_loader)):\n",
    "            optimizer.zero_grad()\n",
    "            prediction = model(data)\n",
    "            loss1 = criterion(prediction['canSteering'], target['canSteering'].cuda())\n",
    "            loss2 = criterion(prediction['canSpeed'], target['canSpeed'].cuda())\n",
    "            loss = loss1 + loss2\n",
    "            loss.backward()\n",
    "            optimizer.step()\n",
    "            \n",
    "            # print statistics\n",
    "            angle_loss += loss1.item()\n",
    "            speed_loss += loss2.item()\n",
    "            cnt += 1\n",
    "#             if batch_idx > 5:\n",
    "#                 break\n",
    "            if (batch_idx+1) % print_freq == 0:\n",
    "                if normalize_targets:\n",
    "                    angle_loss = (angle_loss * target_std['canSteering']**2) / cnt\n",
    "                    speed_loss = (speed_loss * target_std['canSpeed']**2) / cnt\n",
    "                else:\n",
    "                    angle_loss /= cnt\n",
    "                    speed_loss /= cnt\n",
    "                train_metrics['angle_loss'].setdefault(str(epoch), []).append(angle_loss)\n",
    "                train_metrics['speed_loss'].setdefault(str(epoch), []).append(speed_loss)\n",
    "                print('[epoch: %d, batch: %5d] time: %.2f angle_loss: %.2f speed_loss: %.2f' %\n",
    "                      (epoch + 1, batch_idx + 1, (datetime.now() - since).total_seconds(), angle_loss, speed_loss))\n",
    "                angle_loss = 0.0\n",
    "                speed_loss = 0.0\n",
    "                since = datetime.now()\n",
    "                cnt = 0\n",
    "        print('='*10 + 'saving the model to' + save_path + '='*10)\n",
    "        torch.save({\n",
    "            \"model_state_dict\":model.state_dict(),\n",
    "            \"angle_loss\": angle_loss,\n",
    "            \"speed_loss\": speed_loss,\n",
    "            \"optimizer_state_dict\":optimizer.state_dict(),\n",
    "            \"epoch\":epoch\n",
    "            }, save_path)\n",
    "        print('saving success!')\n",
    "        if validation:\n",
    "            print('='*10 + 'starting validation' + '='*10)\n",
    "            model.eval()\n",
    "            with torch.no_grad():\n",
    "                for batch_idx, (data, target) in enumerate(tqdm_notebook(validation_loader)):\n",
    "                    if torch.cuda.is_available():\n",
    "                        for w in ['canSteering', 'canSpeed']:\n",
    "                            target[w].cuda()\n",
    "                    prediction = model(data)\n",
    "                    mse1 = (np.square(prediction['canSteering'].cpu() - target['canSteering'].cpu())).mean()\n",
    "                    mse2 = (np.square(prediction['canSpeed'].cpu() - target['canSpeed'].cpu())).mean()\n",
    "                    if normalize_targets:\n",
    "                        mse1 = mse1 * target_std['canSteering'] ** 2\n",
    "                        mse2 = mse2 * target_std['canSpeed'] ** 2\n",
    "                    validation_metrics['angle_loss'].setdefault(str(epoch), []).append(mse1)\n",
    "                    validation_metrics['speed_loss'].setdefault(str(epoch), []).append(mse2)\n",
    "            print('angle_loss: %.2f speed_loss: %.2f' % (np.mean(validation_metrics['angle_loss'][str(epoch)]), \n",
    "                  np.mean(validation_metrics['speed_loss'][str(epoch)])))\n",
    "            print('='*10 + 'validation finished' + '='*10)\n",
    "    return train_metrics, validation_metrics"
   ]
  },
  {
   "cell_type": "code",
   "execution_count": null,
   "metadata": {},
   "outputs": [
    {
     "name": "stdout",
     "output_type": "stream",
     "text": [
      "load_path does not exist!\n",
      "==========start 1 epoch==========\n"
     ]
    },
    {
     "data": {
      "application/vnd.jupyter.widget-view+json": {
       "model_id": "0beb56c771fb4ee9880616281583c356",
       "version_major": 2,
       "version_minor": 0
      },
      "text/plain": [
       "HBox(children=(IntProgress(value=0, max=4757), HTML(value='')))"
      ]
     },
     "metadata": {},
     "output_type": "display_data"
    },
    {
     "name": "stdout",
     "output_type": "stream",
     "text": [
      "[epoch: 1, batch:   200] time: 124.74 angle_loss: 2036.98 speed_loss: 22.38\n",
      "[epoch: 1, batch:   400] time: 124.63 angle_loss: 1773.02 speed_loss: 13.83\n",
      "[epoch: 1, batch:   600] time: 124.78 angle_loss: 1656.10 speed_loss: 10.96\n",
      "[epoch: 1, batch:   800] time: 124.89 angle_loss: 1874.18 speed_loss: 10.26\n",
      "[epoch: 1, batch:  1000] time: 124.97 angle_loss: 1553.04 speed_loss: 8.86\n",
      "[epoch: 1, batch:  1200] time: 124.84 angle_loss: 1619.52 speed_loss: 8.07\n",
      "[epoch: 1, batch:  1400] time: 124.86 angle_loss: 1455.94 speed_loss: 7.80\n",
      "[epoch: 1, batch:  1600] time: 124.62 angle_loss: 1165.76 speed_loss: 7.91\n",
      "[epoch: 1, batch:  1800] time: 124.74 angle_loss: 1405.94 speed_loss: 7.64\n"
     ]
    }
   ],
   "source": [
    "NOW = datetime.now().strftime(\"%m-%d-%H:%M\")\n",
    "MODEL_NAME = 'non_local'\n",
    "\n",
    "if not os.path.isdir(os.path.join('../output', MODEL_NAME)):\n",
    "    os.mkdir(os.path.join('../output', MODEL_NAME))\n",
    "\n",
    "LOAD_PATH = os.path.join('../output', MODEL_NAME, '.pth')\n",
    "SAVE_PATH = os.path.join('../output', MODEL_NAME, NOW + '_' + MODEL_NAME + '.pth')\n",
    "\n",
    "model = NonLocalModel()\n",
    "criterion =nn.MSELoss()\n",
    "optimizer = optim.Adam(filter(lambda p: p.requires_grad, model.parameters()), lr=0.0001)\n",
    "\n",
    "result = train_nn(train_loader, validation_loader, model, optimizer, criterion, epochs=5, \n",
    "                  validation=True, load_path=LOAD_PATH, save_path=SAVE_PATH, print_freq=200)\n"
   ]
  },
  {
   "cell_type": "markdown",
   "metadata": {
    "colab_type": "text",
    "id": "wmytfALkchq6"
   },
   "source": [
    "## Creating a submission file."
   ]
  },
  {
   "cell_type": "code",
   "execution_count": 5,
   "metadata": {
    "colab": {},
    "colab_type": "code",
    "id": "uL0kP0lYchq7"
   },
   "outputs": [],
   "source": [
    "def add_results(results, output):\n",
    "    steering = np.squeeze(output['canSteering'].cpu().data.numpy())\n",
    "    speed = np.squeeze(output['canSpeed'].cpu().data.numpy())\n",
    "    if normalize_targets:\n",
    "        steering = (steering*target_std['canSteering'])+target_mean['canSteering']\n",
    "        speed = (speed*target_std['canSpeed'])+target_mean['canSpeed']\n",
    "    if np.isscalar(steering):\n",
    "        steering = [steering]\n",
    "    if np.isscalar(speed):\n",
    "        speed = [speed]\n",
    "    results['canSteering'].extend(steering)\n",
    "    results['canSpeed'].extend(speed)"
   ]
  },
  {
   "cell_type": "markdown",
   "metadata": {
    "colab_type": "text",
    "id": "sf28f1B6chq-"
   },
   "source": [
    "We use pandas to create a submission file which is simply a 2-column csv with a canSteering and canSpeed prediction for each row in the **drive360_test.csv** a total of 305437 rows/predictions not including the header. See the **sample_submission.csv** file as an example.\n",
    "\n",
    "IMPORTANT: for the test phase indices will start 10s (100 samples) into each chapter this is to allow challenge participants to experiment with different temporal settings of data input. If challenge participants have a greater temporal length than 10s for each training sample, then they must write a custom function here. Please check out the **dataset.py** file for additional explanation."
   ]
  },
  {
   "cell_type": "code",
   "execution_count": 10,
   "metadata": {
    "colab": {},
    "colab_type": "code",
    "id": "ogBR8mhFchq_"
   },
   "outputs": [
    {
     "data": {
      "application/vnd.jupyter.widget-view+json": {
       "model_id": "376af9b8967142d58da6544790ae594f",
       "version_major": 2,
       "version_minor": 0
      },
      "text/plain": [
       "HBox(children=(IntProgress(value=0, max=1745), HTML(value='')))"
      ]
     },
     "metadata": {},
     "output_type": "display_data"
    },
    {
     "name": "stdout",
     "output_type": "stream",
     "text": [
      "\n"
     ]
    }
   ],
   "source": [
    "results = {'canSteering': [],\n",
    "           'canSpeed': []}\n",
    "\n",
    "model = SomeDrivingModel()\n",
    "model.cuda()\n",
    "MODEL_NAME = 'baseline'\n",
    "LOAD_PATH = os.path.join('../output', MODEL_NAME, '10-07-04:26_baseline.pth')\n",
    "checkpoint = torch.load(LOAD_PATH)\n",
    "model.load_state_dict(checkpoint['model_state_dict'])\n",
    "\n",
    "with torch.no_grad():\n",
    "    for batch_idx, (data, target) in enumerate(tqdm_notebook(test_loader)):\n",
    "        prediction = model(data)\n",
    "        add_results(results, prediction)\n",
    "\n",
    "df = pd.DataFrame.from_dict(results)"
   ]
  },
  {
   "cell_type": "code",
   "execution_count": 13,
   "metadata": {},
   "outputs": [
    {
     "data": {
      "text/html": [
       "<div>\n",
       "<style scoped>\n",
       "    .dataframe tbody tr th:only-of-type {\n",
       "        vertical-align: middle;\n",
       "    }\n",
       "\n",
       "    .dataframe tbody tr th {\n",
       "        vertical-align: top;\n",
       "    }\n",
       "\n",
       "    .dataframe thead th {\n",
       "        text-align: right;\n",
       "    }\n",
       "</style>\n",
       "<table border=\"1\" class=\"dataframe\">\n",
       "  <thead>\n",
       "    <tr style=\"text-align: right;\">\n",
       "      <th></th>\n",
       "      <th>canSteering</th>\n",
       "      <th>canSpeed</th>\n",
       "    </tr>\n",
       "  </thead>\n",
       "  <tbody>\n",
       "    <tr>\n",
       "      <td>0</td>\n",
       "      <td>-0.080479</td>\n",
       "      <td>-0.590675</td>\n",
       "    </tr>\n",
       "    <tr>\n",
       "      <td>1</td>\n",
       "      <td>-0.073730</td>\n",
       "      <td>-0.364964</td>\n",
       "    </tr>\n",
       "    <tr>\n",
       "      <td>2</td>\n",
       "      <td>-0.090513</td>\n",
       "      <td>-0.441450</td>\n",
       "    </tr>\n",
       "    <tr>\n",
       "      <td>3</td>\n",
       "      <td>-0.045025</td>\n",
       "      <td>-0.094880</td>\n",
       "    </tr>\n",
       "    <tr>\n",
       "      <td>4</td>\n",
       "      <td>-0.027954</td>\n",
       "      <td>-0.412205</td>\n",
       "    </tr>\n",
       "    <tr>\n",
       "      <td>...</td>\n",
       "      <td>...</td>\n",
       "      <td>...</td>\n",
       "    </tr>\n",
       "    <tr>\n",
       "      <td>27915</td>\n",
       "      <td>0.014345</td>\n",
       "      <td>-0.268075</td>\n",
       "    </tr>\n",
       "    <tr>\n",
       "      <td>27916</td>\n",
       "      <td>0.002037</td>\n",
       "      <td>-0.041777</td>\n",
       "    </tr>\n",
       "    <tr>\n",
       "      <td>27917</td>\n",
       "      <td>-0.043145</td>\n",
       "      <td>-0.013215</td>\n",
       "    </tr>\n",
       "    <tr>\n",
       "      <td>27918</td>\n",
       "      <td>-0.029405</td>\n",
       "      <td>-0.174736</td>\n",
       "    </tr>\n",
       "    <tr>\n",
       "      <td>27919</td>\n",
       "      <td>-0.038967</td>\n",
       "      <td>0.123750</td>\n",
       "    </tr>\n",
       "  </tbody>\n",
       "</table>\n",
       "<p>27920 rows × 2 columns</p>\n",
       "</div>"
      ],
      "text/plain": [
       "       canSteering  canSpeed\n",
       "0        -0.080479 -0.590675\n",
       "1        -0.073730 -0.364964\n",
       "2        -0.090513 -0.441450\n",
       "3        -0.045025 -0.094880\n",
       "4        -0.027954 -0.412205\n",
       "...            ...       ...\n",
       "27915     0.014345 -0.268075\n",
       "27916     0.002037 -0.041777\n",
       "27917    -0.043145 -0.013215\n",
       "27918    -0.029405 -0.174736\n",
       "27919    -0.038967  0.123750\n",
       "\n",
       "[27920 rows x 2 columns]"
      ]
     },
     "execution_count": 13,
     "metadata": {},
     "output_type": "execute_result"
    }
   ],
   "source": []
  },
  {
   "cell_type": "code",
   "execution_count": 14,
   "metadata": {},
   "outputs": [
    {
     "name": "stdout",
     "output_type": "stream",
     "text": [
      "279863\n"
     ]
    }
   ],
   "source": [
    "## linear interpolation\n",
    "from scipy.interpolate import interp1d\n",
    "file = os.path.join('../output', MODEL_NAME, 'submission.csv')\n",
    "output = {\n",
    "    'canSteering': [],\n",
    "    'canSpeed': []\n",
    "}\n",
    "test_sample = pd.read_csv('../data/test_sample1.csv')\n",
    "curr_list = test_sample['chapter'].value_counts()-10\n",
    "test_full = pd.read_csv('../data/test_full.csv')\n",
    "target_list = test_full['chapter'].value_counts()-100\n",
    "k = 0\n",
    "for ch in test_sample['chapter'].unique():\n",
    "    curr_num = curr_list[ch]\n",
    "    target_num = target_list[ch]\n",
    "    x = list(range(100, 100+10*curr_num, 10))\n",
    "    x.insert(0, 0)\n",
    "    x.append(target_num-1)\n",
    "    newx = list(range(0, target_num))\n",
    "    y1, y2 = list(df.iloc[k:(k+curr_num),0]), list(df.iloc[k:(k+curr_num),1])\n",
    "    y1.insert(0, y1[0])\n",
    "    y1.append(y1[-1])\n",
    "    f1 = interp1d(x, y1, kind='linear')\n",
    "    output['canSteering'].extend(f1(newx))\n",
    "    y2.insert(0, y2[0])\n",
    "    y2.append(y2[-1])\n",
    "    f2 = interp1d(x, y2, kind='linear')\n",
    "    output['canSpeed'].extend(f2(newx))\n",
    "    k += curr_num\n",
    "    \n",
    "output_df = pd.DataFrame(output)\n",
    "print(len(output_df))\n",
    "output_df.to_csv(file, index=False)"
   ]
  },
  {
   "cell_type": "code",
   "execution_count": null,
   "metadata": {},
   "outputs": [],
   "source": [
    "!pip3 freeze > requirements.txt"
   ]
  }
 ],
 "metadata": {
  "accelerator": "GPU",
  "colab": {
   "collapsed_sections": [],
   "name": "zxx_trybaseline.ipynb",
   "provenance": [
    {
     "file_id": "1QKQXTMXpTsQc4Pb4xCgBCzd_Kxa-5Q5g",
     "timestamp": 1569968743899
    }
   ],
   "toc_visible": true
  },
  "kernelspec": {
   "display_name": "Python 3",
   "language": "python",
   "name": "python3"
  },
  "language_info": {
   "codemirror_mode": {
    "name": "ipython",
    "version": 3
   },
   "file_extension": ".py",
   "mimetype": "text/x-python",
   "name": "python",
   "nbconvert_exporter": "python",
   "pygments_lexer": "ipython3",
   "version": "3.7.4"
  }
 },
 "nbformat": 4,
 "nbformat_minor": 4
}
